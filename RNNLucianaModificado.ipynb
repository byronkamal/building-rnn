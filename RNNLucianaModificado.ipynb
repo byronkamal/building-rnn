{
  "nbformat": 4,
  "nbformat_minor": 0,
  "metadata": {
    "colab": {
      "name": "RNNLucianaModificado.ipynb",
      "provenance": []
    },
    "kernelspec": {
      "name": "python3",
      "display_name": "Python 3"
    }
  },
  "cells": [
    {
      "cell_type": "markdown",
      "metadata": {
        "id": "3kjED8tR1HuV",
        "colab_type": "text"
      },
      "source": [
        "# **Recurrent Neural Networks**\n",
        "\n",
        "calcular o preço das ações do google"
      ]
    },
    {
      "cell_type": "code",
      "metadata": {
        "id": "RowWPeAi0fZE",
        "colab_type": "code",
        "colab": {}
      },
      "source": [
        "# Part 1 - Data Preprocessing\n",
        "\n",
        "# Importing the libraries\n",
        "import numpy as np\n",
        "import matplotlib.pyplot as plt\n",
        "import pandas as pd"
      ],
      "execution_count": 0,
      "outputs": []
    },
    {
      "cell_type": "code",
      "metadata": {
        "id": "g5U3LDf807wS",
        "colab_type": "code",
        "colab": {}
      },
      "source": [
        "# Importing the training set\n",
        "dataset_train = pd.read_csv('Google_Stock_Price_Train.csv')\n",
        "training_set = dataset_train.iloc[:, 1:2].values"
      ],
      "execution_count": 0,
      "outputs": []
    },
    {
      "cell_type": "code",
      "metadata": {
        "id": "NyMOW_Gk08zJ",
        "colab_type": "code",
        "colab": {}
      },
      "source": [
        "# Feature Scaling\n",
        "from sklearn.preprocessing import MinMaxScaler\n",
        "sc = MinMaxScaler(feature_range = (0, 1))\n",
        "training_set_scaled = sc.fit_transform(training_set)"
      ],
      "execution_count": 0,
      "outputs": []
    },
    {
      "cell_type": "code",
      "metadata": {
        "id": "--JUfCkD0-Mu",
        "colab_type": "code",
        "colab": {
          "base_uri": "https://localhost:8080/",
          "height": 833
        },
        "outputId": "86c7ab8d-1f22-4f2f-8597-51e02eaf1991"
      },
      "source": [
        "# Creating a data structure with 60 timesteps and 1 output\n",
        "X_train = []\n",
        "y_train = []\n",
        "for i in range(60, 1258):\n",
        "    X_train.append(training_set_scaled[i-60:i, 0])\n",
        "    y_train.append(training_set_scaled[i, 0])\n",
        "X_train, y_train = np.array(X_train), np.array(y_train)\n",
        "\n",
        "# Reshaping\n",
        "X_train = np.reshape(X_train, (X_train.shape[0], X_train.shape[1], 1))\n",
        "X_train"
      ],
      "execution_count": 4,
      "outputs": [
        {
          "output_type": "execute_result",
          "data": {
            "text/plain": [
              "array([[[0.08581368],\n",
              "        [0.09701243],\n",
              "        [0.09433366],\n",
              "        ...,\n",
              "        [0.07846566],\n",
              "        [0.08034452],\n",
              "        [0.08497656]],\n",
              "\n",
              "       [[0.09701243],\n",
              "        [0.09433366],\n",
              "        [0.09156187],\n",
              "        ...,\n",
              "        [0.08034452],\n",
              "        [0.08497656],\n",
              "        [0.08627874]],\n",
              "\n",
              "       [[0.09433366],\n",
              "        [0.09156187],\n",
              "        [0.07984225],\n",
              "        ...,\n",
              "        [0.08497656],\n",
              "        [0.08627874],\n",
              "        [0.08471612]],\n",
              "\n",
              "       ...,\n",
              "\n",
              "       [[0.92106928],\n",
              "        [0.92438053],\n",
              "        [0.93048218],\n",
              "        ...,\n",
              "        [0.95475854],\n",
              "        [0.95204256],\n",
              "        [0.95163331]],\n",
              "\n",
              "       [[0.92438053],\n",
              "        [0.93048218],\n",
              "        [0.9299055 ],\n",
              "        ...,\n",
              "        [0.95204256],\n",
              "        [0.95163331],\n",
              "        [0.95725128]],\n",
              "\n",
              "       [[0.93048218],\n",
              "        [0.9299055 ],\n",
              "        [0.93113327],\n",
              "        ...,\n",
              "        [0.95163331],\n",
              "        [0.95725128],\n",
              "        [0.93796041]]])"
            ]
          },
          "metadata": {
            "tags": []
          },
          "execution_count": 4
        }
      ]
    },
    {
      "cell_type": "code",
      "metadata": {
        "id": "V244pRnu0-sC",
        "colab_type": "code",
        "colab": {
          "base_uri": "https://localhost:8080/",
          "height": 33
        },
        "outputId": "198b2d7c-330b-4eef-9579-268bc5c9fdd2"
      },
      "source": [
        "# Part 2 - Building the RNN\n",
        "\n",
        "# Importing the Keras libraries and packages\n",
        "from keras.models import Sequential\n",
        "from keras.layers import Dense\n",
        "from keras.layers import LSTM\n",
        "from keras.layers import Dropout\n",
        "from keras.layers import GRU\n",
        "\n",
        "# Initialising the RNN\n",
        "regressor = Sequential()\n",
        "\n",
        "# Adding the first LSTM layer and some Dropout regularisation\n",
        "regressor.add(GRU(units = 50, return_sequences = True, input_shape = (X_train.shape[1], 1)))\n",
        "regressor.add(Dropout(0.2))\n",
        "\n",
        "# Adding a second LSTM layer and some Dropout regularisation\n",
        "regressor.add(GRU(units = 50, return_sequences = True))\n",
        "regressor.add(Dropout(0.2))\n",
        "\n",
        "# Adding a third LSTM layer and some Dropout regularisation\n",
        "regressor.add(GRU(units = 50, return_sequences = True))\n",
        "regressor.add(Dropout(0.2))\n",
        "\n",
        "# Adding a fourth LSTM layer and some Dropout regularisation\n",
        "regressor.add(GRU(units = 50))\n",
        "regressor.add(Dropout(0.2))\n",
        "\n",
        "# Adding the output layer\n",
        "regressor.add(Dense(units = 1))\n",
        "\n",
        "# Compiling the RNN\n",
        "regressor.compile(optimizer = 'adam', loss = 'mean_squared_error')"
      ],
      "execution_count": 5,
      "outputs": [
        {
          "output_type": "stream",
          "text": [
            "Using TensorFlow backend.\n"
          ],
          "name": "stderr"
        }
      ]
    },
    {
      "cell_type": "code",
      "metadata": {
        "id": "riPUZm1N1Agw",
        "colab_type": "code",
        "colab": {
          "base_uri": "https://localhost:8080/",
          "height": 366
        },
        "outputId": "64ffd59c-cb6b-4a9e-96c8-b28636593fd4"
      },
      "source": [
        "# Fitting the RNN to the Training set\n",
        "regressor.fit(X_train, y_train, epochs = 10, batch_size = 32)"
      ],
      "execution_count": 6,
      "outputs": [
        {
          "output_type": "stream",
          "text": [
            "Epoch 1/10\n",
            "1198/1198 [==============================] - 7s 6ms/step - loss: 0.0451\n",
            "Epoch 2/10\n",
            "1198/1198 [==============================] - 5s 5ms/step - loss: 0.0061\n",
            "Epoch 3/10\n",
            "1198/1198 [==============================] - 5s 4ms/step - loss: 0.0054\n",
            "Epoch 4/10\n",
            "1198/1198 [==============================] - 5s 4ms/step - loss: 0.0046\n",
            "Epoch 5/10\n",
            "1198/1198 [==============================] - 5s 4ms/step - loss: 0.0047\n",
            "Epoch 6/10\n",
            "1198/1198 [==============================] - 5s 4ms/step - loss: 0.0048\n",
            "Epoch 7/10\n",
            "1198/1198 [==============================] - 5s 4ms/step - loss: 0.0041\n",
            "Epoch 8/10\n",
            "1198/1198 [==============================] - 5s 4ms/step - loss: 0.0041\n",
            "Epoch 9/10\n",
            "1198/1198 [==============================] - 5s 5ms/step - loss: 0.0036\n",
            "Epoch 10/10\n",
            "1198/1198 [==============================] - 6s 5ms/step - loss: 0.0041\n"
          ],
          "name": "stdout"
        },
        {
          "output_type": "execute_result",
          "data": {
            "text/plain": [
              "<keras.callbacks.callbacks.History at 0x7f74a47c9748>"
            ]
          },
          "metadata": {
            "tags": []
          },
          "execution_count": 6
        }
      ]
    },
    {
      "cell_type": "code",
      "metadata": {
        "id": "r1uz7X3X1Ca2",
        "colab_type": "code",
        "colab": {}
      },
      "source": [
        "# Part 3 - Making the predictions and visualising the results\n",
        "\n",
        "# Getting the real stock price of 2017\n",
        "dataset_test = pd.read_csv('Google_Stock_Price_Test.csv')\n",
        "real_stock_price = dataset_test.iloc[:, 1:2].values\n",
        "\n",
        "# Getting the predicted stock price of 2017\n",
        "dataset_total = pd.concat((dataset_train['Open'], dataset_test['Open']), axis = 0)\n",
        "inputs = dataset_total[len(dataset_total) - len(dataset_test) - 60:].values\n",
        "inputs = inputs.reshape(-1,1)\n",
        "inputs = sc.transform(inputs)\n",
        "X_test = []\n",
        "for i in range(60, 80):\n",
        "    X_test.append(inputs[i-60:i, 0])\n",
        "X_test = np.array(X_test)\n",
        "X_test = np.reshape(X_test, (X_test.shape[0], X_test.shape[1], 1))\n",
        "predicted_stock_price = regressor.predict(X_test)\n",
        "predicted_stock_price = sc.inverse_transform(predicted_stock_price)"
      ],
      "execution_count": 0,
      "outputs": []
    },
    {
      "cell_type": "code",
      "metadata": {
        "id": "h2DCmfM-1C3I",
        "colab_type": "code",
        "colab": {
          "base_uri": "https://localhost:8080/",
          "height": 294
        },
        "outputId": "c6d9bb05-0be8-4b0b-a757-498533f19c09"
      },
      "source": [
        "# Visualising the results\n",
        "plt.plot(real_stock_price, color = 'red', label = 'Real Google Stock Price')\n",
        "plt.plot(predicted_stock_price, color = 'blue', label = 'Predicted Google Stock Price')\n",
        "plt.title('Google Stock Price Prediction')\n",
        "plt.xlabel('Time')\n",
        "plt.ylabel('Google Stock Price')\n",
        "plt.legend()\n",
        "plt.show()"
      ],
      "execution_count": 8,
      "outputs": [
        {
          "output_type": "display_data",
          "data": {
            "text/plain": [
              "<Figure size 432x288 with 1 Axes>"
            ],
            "image/png": "[encoded data removed]"
          },
          "metadata": {
            "tags": [],
            "needs_background": "light"
          }
        }
      ]
    }
  ]
}