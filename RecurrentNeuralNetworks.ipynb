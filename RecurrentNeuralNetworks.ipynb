{
 "cells": [
  {
   "cell_type": "markdown",
   "metadata": {},
   "source": [
    "# Recurrent Neural Networks\n",
    "\n",
    "calcular o preço das ações do google"
   ]
  },
  {
   "cell_type": "code",
   "execution_count": 1,
   "metadata": {
    "ExecuteTime": {
     "end_time": "2019-11-01T12:46:35.981452Z",
     "start_time": "2019-11-01T12:46:35.456332Z"
    }
   },
   "outputs": [
    {
     "name": "stdout",
     "output_type": "stream",
     "text": [
      "Requirement already satisfied: tensorflow==1.13.1 in /srv/conda/envs/notebook/lib/python3.7/site-packages (from -r requirements.txt (line 1)) (1.13.1)\n",
      "Requirement already satisfied: numpy==1.16.2 in /srv/conda/envs/notebook/lib/python3.7/site-packages (from -r requirements.txt (line 2)) (1.16.2)\n",
      "Requirement already satisfied: pandas==0.24.2 in /srv/conda/envs/notebook/lib/python3.7/site-packages (from -r requirements.txt (line 3)) (0.24.2)\n",
      "Requirement already satisfied: matplotlib==3.0.3 in /srv/conda/envs/notebook/lib/python3.7/site-packages (from -r requirements.txt (line 4)) (3.0.3)\n",
      "Requirement already satisfied: Keras==2.2.4 in /srv/conda/envs/notebook/lib/python3.7/site-packages (from -r requirements.txt (line 5)) (2.2.4)\n",
      "Requirement already satisfied: sklearn==0.0 in /srv/conda/envs/notebook/lib/python3.7/site-packages (from -r requirements.txt (line 6)) (0.0)\n",
      "Requirement already satisfied: grpcio>=1.8.6 in /srv/conda/envs/notebook/lib/python3.7/site-packages (from tensorflow==1.13.1->-r requirements.txt (line 1)) (1.25.0)\n",
      "Requirement already satisfied: keras-preprocessing>=1.0.5 in /srv/conda/envs/notebook/lib/python3.7/site-packages (from tensorflow==1.13.1->-r requirements.txt (line 1)) (1.1.0)\n",
      "Requirement already satisfied: absl-py>=0.1.6 in /srv/conda/envs/notebook/lib/python3.7/site-packages (from tensorflow==1.13.1->-r requirements.txt (line 1)) (0.8.1)\n",
      "Requirement already satisfied: wheel>=0.26 in /srv/conda/envs/notebook/lib/python3.7/site-packages (from tensorflow==1.13.1->-r requirements.txt (line 1)) (0.33.6)\n",
      "Requirement already satisfied: gast>=0.2.0 in /srv/conda/envs/notebook/lib/python3.7/site-packages (from tensorflow==1.13.1->-r requirements.txt (line 1)) (0.3.2)\n",
      "Requirement already satisfied: tensorboard<1.14.0,>=1.13.0 in /srv/conda/envs/notebook/lib/python3.7/site-packages (from tensorflow==1.13.1->-r requirements.txt (line 1)) (1.13.1)\n",
      "Requirement already satisfied: termcolor>=1.1.0 in /srv/conda/envs/notebook/lib/python3.7/site-packages (from tensorflow==1.13.1->-r requirements.txt (line 1)) (1.1.0)\n",
      "Requirement already satisfied: tensorflow-estimator<1.14.0rc0,>=1.13.0 in /srv/conda/envs/notebook/lib/python3.7/site-packages (from tensorflow==1.13.1->-r requirements.txt (line 1)) (1.13.0)\n",
      "Requirement already satisfied: six>=1.10.0 in /srv/conda/envs/notebook/lib/python3.7/site-packages (from tensorflow==1.13.1->-r requirements.txt (line 1)) (1.12.0)\n",
      "Requirement already satisfied: protobuf>=3.6.1 in /srv/conda/envs/notebook/lib/python3.7/site-packages (from tensorflow==1.13.1->-r requirements.txt (line 1)) (3.10.0)\n",
      "Requirement already satisfied: keras-applications>=1.0.6 in /srv/conda/envs/notebook/lib/python3.7/site-packages (from tensorflow==1.13.1->-r requirements.txt (line 1)) (1.0.8)\n",
      "Requirement already satisfied: astor>=0.6.0 in /srv/conda/envs/notebook/lib/python3.7/site-packages (from tensorflow==1.13.1->-r requirements.txt (line 1)) (0.8.0)\n",
      "Requirement already satisfied: pytz>=2011k in /srv/conda/envs/notebook/lib/python3.7/site-packages (from pandas==0.24.2->-r requirements.txt (line 3)) (2019.3)\n",
      "Requirement already satisfied: python-dateutil>=2.5.0 in /srv/conda/envs/notebook/lib/python3.7/site-packages (from pandas==0.24.2->-r requirements.txt (line 3)) (2.8.0)\n",
      "Requirement already satisfied: pyparsing!=2.0.4,!=2.1.2,!=2.1.6,>=2.0.1 in /srv/conda/envs/notebook/lib/python3.7/site-packages (from matplotlib==3.0.3->-r requirements.txt (line 4)) (2.4.5)\n",
      "Requirement already satisfied: kiwisolver>=1.0.1 in /srv/conda/envs/notebook/lib/python3.7/site-packages (from matplotlib==3.0.3->-r requirements.txt (line 4)) (1.1.0)\n",
      "Requirement already satisfied: cycler>=0.10 in /srv/conda/envs/notebook/lib/python3.7/site-packages (from matplotlib==3.0.3->-r requirements.txt (line 4)) (0.10.0)\n",
      "Requirement already satisfied: scipy>=0.14 in /srv/conda/envs/notebook/lib/python3.7/site-packages (from Keras==2.2.4->-r requirements.txt (line 5)) (1.3.3)\n",
      "Requirement already satisfied: h5py in /srv/conda/envs/notebook/lib/python3.7/site-packages (from Keras==2.2.4->-r requirements.txt (line 5)) (2.10.0)\n",
      "Requirement already satisfied: pyyaml in /srv/conda/envs/notebook/lib/python3.7/site-packages (from Keras==2.2.4->-r requirements.txt (line 5)) (5.1.2)\n",
      "Requirement already satisfied: scikit-learn in /srv/conda/envs/notebook/lib/python3.7/site-packages (from sklearn==0.0->-r requirements.txt (line 6)) (0.21.3)\n",
      "Requirement already satisfied: werkzeug>=0.11.15 in /srv/conda/envs/notebook/lib/python3.7/site-packages (from tensorboard<1.14.0,>=1.13.0->tensorflow==1.13.1->-r requirements.txt (line 1)) (0.16.0)\n",
      "Requirement already satisfied: markdown>=2.6.8 in /srv/conda/envs/notebook/lib/python3.7/site-packages (from tensorboard<1.14.0,>=1.13.0->tensorflow==1.13.1->-r requirements.txt (line 1)) (3.1.1)\n",
      "Requirement already satisfied: mock>=2.0.0 in /srv/conda/envs/notebook/lib/python3.7/site-packages (from tensorflow-estimator<1.14.0rc0,>=1.13.0->tensorflow==1.13.1->-r requirements.txt (line 1)) (3.0.5)\n",
      "Requirement already satisfied: setuptools in /srv/conda/envs/notebook/lib/python3.7/site-packages (from protobuf>=3.6.1->tensorflow==1.13.1->-r requirements.txt (line 1)) (41.2.0)\n",
      "Requirement already satisfied: joblib>=0.11 in /srv/conda/envs/notebook/lib/python3.7/site-packages (from scikit-learn->sklearn==0.0->-r requirements.txt (line 6)) (0.14.0)\n"
     ]
    }
   ],
   "source": [
    "# Part 1 - Data Preprocessing\n",
    "!pip install -r requirements.txt\n",
    "# Importing the libraries\n",
    "import numpy as np\n",
    "import matplotlib.pyplot as plt\n",
    "import pandas as pd"
   ]
  },
  {
   "cell_type": "code",
   "execution_count": 2,
   "metadata": {
    "ExecuteTime": {
     "end_time": "2019-11-01T12:46:36.676411Z",
     "start_time": "2019-11-01T12:46:36.644556Z"
    }
   },
   "outputs": [],
   "source": [
    "# Importing the training set\n",
    "dataset_train = pd.read_csv('Google_Stock_Price_Train.csv')\n",
    "training_set = dataset_train.iloc[:, 1:2].values"
   ]
  },
  {
   "cell_type": "code",
   "execution_count": 3,
   "metadata": {
    "ExecuteTime": {
     "end_time": "2019-11-01T12:46:38.302511Z",
     "start_time": "2019-11-01T12:46:37.732718Z"
    }
   },
   "outputs": [],
   "source": [
    "# Feature Scaling\n",
    "from sklearn.preprocessing import MinMaxScaler\n",
    "sc = MinMaxScaler(feature_range = (0, 1))\n",
    "training_set_scaled = sc.fit_transform(training_set)"
   ]
  },
  {
   "cell_type": "code",
   "execution_count": 4,
   "metadata": {
    "ExecuteTime": {
     "end_time": "2019-11-01T12:46:38.680298Z",
     "start_time": "2019-11-01T12:46:38.657721Z"
    }
   },
   "outputs": [
    {
     "data": {
      "text/plain": [
       "array([[[0.08581368],\n",
       "        [0.09701243],\n",
       "        [0.09433366],\n",
       "        ...,\n",
       "        [0.07846566],\n",
       "        [0.08034452],\n",
       "        [0.08497656]],\n",
       "\n",
       "       [[0.09701243],\n",
       "        [0.09433366],\n",
       "        [0.09156187],\n",
       "        ...,\n",
       "        [0.08034452],\n",
       "        [0.08497656],\n",
       "        [0.08627874]],\n",
       "\n",
       "       [[0.09433366],\n",
       "        [0.09156187],\n",
       "        [0.07984225],\n",
       "        ...,\n",
       "        [0.08497656],\n",
       "        [0.08627874],\n",
       "        [0.08471612]],\n",
       "\n",
       "       ...,\n",
       "\n",
       "       [[0.92106928],\n",
       "        [0.92438053],\n",
       "        [0.93048218],\n",
       "        ...,\n",
       "        [0.95475854],\n",
       "        [0.95204256],\n",
       "        [0.95163331]],\n",
       "\n",
       "       [[0.92438053],\n",
       "        [0.93048218],\n",
       "        [0.9299055 ],\n",
       "        ...,\n",
       "        [0.95204256],\n",
       "        [0.95163331],\n",
       "        [0.95725128]],\n",
       "\n",
       "       [[0.93048218],\n",
       "        [0.9299055 ],\n",
       "        [0.93113327],\n",
       "        ...,\n",
       "        [0.95163331],\n",
       "        [0.95725128],\n",
       "        [0.93796041]]])"
      ]
     },
     "execution_count": 4,
     "metadata": {},
     "output_type": "execute_result"
    }
   ],
   "source": [
    "# Creating a data structure with 60 timesteps and 1 output\n",
    "X_train = []\n",
    "y_train = []\n",
    "for i in range(60, 1258):\n",
    "    X_train.append(training_set_scaled[i-60:i, 0])\n",
    "    y_train.append(training_set_scaled[i, 0])\n",
    "X_train, y_train = np.array(X_train), np.array(y_train)\n",
    "\n",
    "# Reshaping\n",
    "X_train = np.reshape(X_train, (X_train.shape[0], X_train.shape[1], 1))\n",
    "X_train"
   ]
  },
  {
   "cell_type": "code",
   "execution_count": 5,
   "metadata": {
    "ExecuteTime": {
     "end_time": "2019-11-01T13:20:17.821823Z",
     "start_time": "2019-11-01T13:20:06.572918Z"
    }
   },
   "outputs": [
    {
     "name": "stderr",
     "output_type": "stream",
     "text": [
      "Using TensorFlow backend.\n"
     ]
    },
    {
     "name": "stdout",
     "output_type": "stream",
     "text": [
      "WARNING:tensorflow:From /srv/conda/envs/notebook/lib/python3.7/site-packages/tensorflow/python/framework/op_def_library.py:263: colocate_with (from tensorflow.python.framework.ops) is deprecated and will be removed in a future version.\n",
      "Instructions for updating:\n",
      "Colocations handled automatically by placer.\n",
      "WARNING:tensorflow:From /srv/conda/envs/notebook/lib/python3.7/site-packages/keras/backend/tensorflow_backend.py:3445: calling dropout (from tensorflow.python.ops.nn_ops) with keep_prob is deprecated and will be removed in a future version.\n",
      "Instructions for updating:\n",
      "Please use `rate` instead of `keep_prob`. Rate should be set to `rate = 1 - keep_prob`.\n"
     ]
    }
   ],
   "source": [
    "# Part 2 - Building the RNN\n",
    "\n",
    "# Importing the Keras libraries and packages\n",
    "from keras.models import Sequential\n",
    "from keras.layers import Dense\n",
    "from keras.layers import GRU\n",
    "from keras.layers import Dropout\n",
    "\n",
    "# Initialising the RNN\n",
    "regressor = Sequential()\n",
    "\n",
    "# Adding the first GRU layer and some Dropout regularisation\n",
    "regressor.add(GRU(units = 500, return_sequences = True, input_shape = (X_train.shape[1], 1)))\n",
    "regressor.add(Dropout(0.2))\n",
    "\n",
    "# Adding a second GRU layer and some Dropout regularisation\n",
    "regressor.add(GRU(units = 500, return_sequences = True))\n",
    "regressor.add(Dropout(0.2))\n",
    "\n",
    "# Adding a third GRU layer and some Dropout regularisation\n",
    "regressor.add(GRU(units = 500, return_sequences = True))\n",
    "regressor.add(Dropout(0.2))\n",
    "\n",
    "# Adding a fourth GRU layer and some Dropout regularisation\n",
    "regressor.add(GRU(units = 500, return_sequences = True))\n",
    "regressor.add(Dropout(0.2))\n",
    "\n",
    "# Adding a fourth GRU layer and some Dropout regularisation\n",
    "regressor.add(GRU(units = 500))\n",
    "regressor.add(Dropout(0.2))\n",
    "\n",
    "# Adding the output layer\n",
    "regressor.add(Dense(units = 1))\n",
    "\n",
    "# Compiling the RNN\n",
    "regressor.compile(optimizer = 'adam', loss = 'mean_squared_error')"
   ]
  },
  {
   "cell_type": "code",
   "execution_count": 6,
   "metadata": {
    "ExecuteTime": {
     "end_time": "2019-11-01T14:31:55.513545Z",
     "start_time": "2019-11-01T13:48:38.434079Z"
    }
   },
   "outputs": [
    {
     "name": "stdout",
     "output_type": "stream",
     "text": [
      "WARNING:tensorflow:From /srv/conda/envs/notebook/lib/python3.7/site-packages/tensorflow/python/ops/math_ops.py:3066: to_int32 (from tensorflow.python.ops.math_ops) is deprecated and will be removed in a future version.\n",
      "Instructions for updating:\n",
      "Use tf.cast instead.\n",
      "Epoch 1/10\n",
      "1198/1198 [==============================] - 217s 181ms/step - loss: 0.2782\n",
      "Epoch 2/10\n",
      "1198/1198 [==============================] - 213s 178ms/step - loss: 0.0109\n",
      "Epoch 3/10\n",
      "1198/1198 [==============================] - 214s 179ms/step - loss: 0.0035\n",
      "Epoch 4/10\n",
      "1198/1198 [==============================] - 215s 180ms/step - loss: 0.0022\n",
      "Epoch 5/10\n",
      "1198/1198 [==============================] - 198s 165ms/step - loss: 0.0017\n",
      "Epoch 6/10\n",
      "1198/1198 [==============================] - 173s 144ms/step - loss: 0.0016\n",
      "Epoch 7/10\n",
      "1198/1198 [==============================] - 153s 127ms/step - loss: 0.0016\n",
      "Epoch 8/10\n",
      "1198/1198 [==============================] - 212s 177ms/step - loss: 0.0016\n",
      "Epoch 9/10\n",
      "1198/1198 [==============================] - 217s 181ms/step - loss: 0.0016\n",
      "Epoch 10/10\n",
      "1198/1198 [==============================] - 215s 179ms/step - loss: 0.0013\n"
     ]
    },
    {
     "data": {
      "text/plain": [
       "<keras.callbacks.History at 0x7fb42bd3b860>"
      ]
     },
     "execution_count": 6,
     "metadata": {},
     "output_type": "execute_result"
    }
   ],
   "source": [
    "# Fitting the RNN to the Training set\n",
    "regressor.fit(X_train, y_train, epochs = 10, batch_size = 64)"
   ]
  },
  {
   "cell_type": "code",
   "execution_count": 7,
   "metadata": {
    "ExecuteTime": {
     "end_time": "2019-11-01T14:31:57.661403Z",
     "start_time": "2019-11-01T14:31:55.516596Z"
    }
   },
   "outputs": [],
   "source": [
    "# Part 3 - Making the predictions and visualising the results\n",
    "\n",
    "# Getting the real stock price of 2017\n",
    "dataset_test = pd.read_csv('Google_Stock_Price_Test.csv')\n",
    "real_stock_price = dataset_test.iloc[:, 1:2].values\n",
    "\n",
    "# Getting the predicted stock price of 2017\n",
    "dataset_total = pd.concat((dataset_train['Open'], dataset_test['Open']), axis = 0)\n",
    "inputs = dataset_total[len(dataset_total) - len(dataset_test) - 60:].values\n",
    "inputs = inputs.reshape(-1,1)\n",
    "inputs = sc.transform(inputs)\n",
    "X_test = []\n",
    "for i in range(60, 80):\n",
    "    X_test.append(inputs[i-60:i, 0])\n",
    "X_test = np.array(X_test)\n",
    "X_test = np.reshape(X_test, (X_test.shape[0], X_test.shape[1], 1))\n",
    "predicted_stock_price = regressor.predict(X_test)\n",
    "predicted_stock_price = sc.inverse_transform(predicted_stock_price)"
   ]
  },
  {
   "cell_type": "code",
   "execution_count": 8,
   "metadata": {
    "ExecuteTime": {
     "end_time": "2019-11-01T14:31:58.042841Z",
     "start_time": "2019-11-01T14:31:57.663312Z"
    }
   },
   "outputs": [
    {
     "data": {
      "image/png": "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\n",
      "text/plain": [
       "<Figure size 432x288 with 1 Axes>"
      ]
     },
     "metadata": {
      "needs_background": "light"
     },
     "output_type": "display_data"
    }
   ],
   "source": [
    "# Visualising the results\n",
    "plt.plot(real_stock_price, color = 'red', label = 'Real Google Stock Price')\n",
    "plt.plot(predicted_stock_price, color = 'blue', label = 'Predicted Google Stock Price')\n",
    "plt.title('Google Stock Price Prediction')\n",
    "plt.xlabel('Time')\n",
    "plt.ylabel('Google Stock Price')\n",
    "plt.legend()\n",
    "plt.show()"
   ]
  },
  {
   "cell_type": "markdown",
   "metadata": {},
   "source": [
    "## FIM"
   ]
  }
 ],
 "metadata": {
  "kernelspec": {
   "display_name": "Python 3",
   "language": "python",
   "name": "python3"
  },
  "language_info": {
   "codemirror_mode": {
    "name": "ipython",
    "version": 3
   },
   "file_extension": ".py",
   "mimetype": "text/x-python",
   "name": "python",
   "nbconvert_exporter": "python",
   "pygments_lexer": "ipython3",
   "version": "3.7.3"
  }
 },
 "nbformat": 4,
 "nbformat_minor": 4
}
×
Drag and Drop
The image will be downloaded