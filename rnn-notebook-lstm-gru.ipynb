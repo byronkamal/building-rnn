{
 "cells": [
  {
   "cell_type": "code",
   "execution_count": 37,
   "metadata": {},
   "outputs": [
    {
     "name": "stderr",
     "output_type": "stream",
     "text": [
      "/home/clarissa/.local/lib/python3.7/site-packages/pandas/core/ops.py:1649: FutureWarning: elementwise comparison failed; returning scalar instead, but in the future will perform elementwise comparison\n",
      "  result = method(y)\n"
     ]
    }
   ],
   "source": [
    "# Recurrent Neural Network\n",
    "\n",
    "\n",
    "\n",
    "# Part 1 - Data Preprocessing\n",
    "\n",
    "# Importing the libraries\n",
    "import numpy as np\n",
    "import matplotlib.pyplot as plt\n",
    "import pandas as pd\n",
    "\n",
    "# Importing the training set\n",
    "dataset_train = pd.read_csv('ITSA4.SA_Train.csv')\n",
    "dataset_train = dataset_train[dataset_train['Open'] != 'null']\n",
    "training_set = dataset_train.iloc[:, 1:2].values\n",
    "\n",
    "# Feature Scaling\n",
    "from sklearn.preprocessing import MinMaxScaler\n",
    "sc = MinMaxScaler(feature_range = (0, 1))\n",
    "training_set_scaled = sc.fit_transform(training_set)\n",
    "\n",
    "# Creating a data structure with 60 timesteps and 1 output\n",
    "X_train = []\n",
    "y_train = []\n",
    "for i in range(60, 500):\n",
    "    X_train.append(training_set_scaled[i-60:i, 0])\n",
    "    y_train.append(training_set_scaled[i, 0])\n",
    "X_train, y_train = np.array(X_train), np.array(y_train)\n",
    "\n",
    "# Reshaping\n",
    "X_train = np.reshape(X_train, (X_train.shape[0], X_train.shape[1], 1))"
   ]
  },
  {
   "cell_type": "code",
   "execution_count": 64,
   "metadata": {},
   "outputs": [
    {
     "name": "stdout",
     "output_type": "stream",
     "text": [
      "Epoch 1/20\n",
      "440/440 [==============================] - 12s 27ms/step - loss: 0.0512\n",
      "Epoch 2/20\n",
      "440/440 [==============================] - 3s 7ms/step - loss: 0.0182\n",
      "Epoch 3/20\n",
      "440/440 [==============================] - 3s 7ms/step - loss: 0.0154\n",
      "Epoch 4/20\n",
      "440/440 [==============================] - 3s 7ms/step - loss: 0.0153\n",
      "Epoch 5/20\n",
      "440/440 [==============================] - 3s 7ms/step - loss: 0.0171\n",
      "Epoch 6/20\n",
      "440/440 [==============================] - 3s 7ms/step - loss: 0.0143\n",
      "Epoch 7/20\n",
      "440/440 [==============================] - 5s 12ms/step - loss: 0.0146\n",
      "Epoch 8/20\n",
      "440/440 [==============================] - 4s 9ms/step - loss: 0.0130\n",
      "Epoch 9/20\n",
      "440/440 [==============================] - 5s 10ms/step - loss: 0.0129\n",
      "Epoch 10/20\n",
      "440/440 [==============================] - 4s 10ms/step - loss: 0.0122\n",
      "Epoch 11/20\n",
      "440/440 [==============================] - 4s 9ms/step - loss: 0.0122\n",
      "Epoch 12/20\n",
      "440/440 [==============================] - 4s 8ms/step - loss: 0.0119\n",
      "Epoch 13/20\n",
      "440/440 [==============================] - 3s 8ms/step - loss: 0.0109\n",
      "Epoch 14/20\n",
      "440/440 [==============================] - 3s 7ms/step - loss: 0.0130\n",
      "Epoch 15/20\n",
      "440/440 [==============================] - 3s 7ms/step - loss: 0.0114\n",
      "Epoch 16/20\n",
      "440/440 [==============================] - 3s 7ms/step - loss: 0.0096\n",
      "Epoch 17/20\n",
      "440/440 [==============================] - 3s 7ms/step - loss: 0.0102\n",
      "Epoch 18/20\n",
      "440/440 [==============================] - 3s 7ms/step - loss: 0.0101\n",
      "Epoch 19/20\n",
      "440/440 [==============================] - 3s 7ms/step - loss: 0.0106\n",
      "Epoch 20/20\n",
      "440/440 [==============================] - 3s 7ms/step - loss: 0.0094\n"
     ]
    },
    {
     "data": {
      "text/plain": [
       "<keras.callbacks.History at 0x7fa79fb301d0>"
      ]
     },
     "execution_count": 64,
     "metadata": {},
     "output_type": "execute_result"
    }
   ],
   "source": [
    "# Part 2 - Building the RNN with LSTM\n",
    "\n",
    "# Importing the Keras libraries and packages\n",
    "from keras.models import Sequential\n",
    "from keras.layers import Dense\n",
    "from keras.layers import LSTM\n",
    "from keras.layers import Dropout\n",
    "\n",
    "# Initialising the RNN\n",
    "regressor = Sequential()\n",
    "\n",
    "# Adding the first LSTM layer and some Dropout regularisation\n",
    "regressor.add(LSTM(units = 50, return_sequences = True, input_shape = (X_train.shape[1], 1)))\n",
    "regressor.add(Dropout(0.2))\n",
    "\n",
    "# Adding a second LSTM layer and some Dropout regularisation\n",
    "regressor.add(LSTM(units = 50, return_sequences = True))\n",
    "regressor.add(Dropout(0.2))\n",
    "\n",
    "# Adding a third LSTM layer and some Dropout regularisation\n",
    "regressor.add(LSTM(units = 50, return_sequences = True))\n",
    "regressor.add(Dropout(0.2))\n",
    "\n",
    "# Adding a fourth LSTM layer and some Dropout regularisation\n",
    "regressor.add(LSTM(units = 50))\n",
    "regressor.add(Dropout(0.2))\n",
    "\n",
    "# Adding the output layer\n",
    "regressor.add(Dense(units = 1))\n",
    "\n",
    "# Compiling the RNN\n",
    "regressor.compile(optimizer = 'adam', loss = 'mean_squared_error')\n",
    "\n",
    "# Fitting the RNN to the Training set\n",
    "regressor.fit(X_train, y_train, epochs = 20, batch_size = 10)"
   ]
  },
  {
   "cell_type": "code",
   "execution_count": 65,
   "metadata": {
    "scrolled": true
   },
   "outputs": [
    {
     "data": {
      "image/png": "[encoded data removed]",
      "text/plain": [
       "<Figure size 432x288 with 1 Axes>"
      ]
     },
     "metadata": {
      "needs_background": "light"
     },
     "output_type": "display_data"
    }
   ],
   "source": [
    "# Part 3 - Making the predictions and visualising the results\n",
    "\n",
    "# Getting the real stock price of 2017\n",
    "dataset_test = pd.read_csv('ITSA4.SA_Test.csv')\n",
    "real_stock_price = dataset_test.iloc[:, 1:2].values\n",
    "\n",
    "# Getting the predicted stock price of 2017\n",
    "dataset_total = pd.concat((dataset_train['Open'], dataset_test['Open']), axis = 0)\n",
    "inputs = dataset_total[len(dataset_total) - len(dataset_test) - 60:].values\n",
    "inputs = inputs.reshape(-1,1)\n",
    "inputs = sc.transform(inputs)\n",
    "X_test = []\n",
    "for i in range(60, 180):\n",
    "    X_test.append(inputs[i-60:i, 0])\n",
    "X_test = np.array(X_test)\n",
    "X_test = np.reshape(X_test, (X_test.shape[0], X_test.shape[1], 1))\n",
    "predicted_stock_price = regressor.predict(X_test)\n",
    "predicted_stock_price = sc.inverse_transform(predicted_stock_price)\n",
    "\n",
    "# Visualising the results\n",
    "plt.plot(real_stock_price, color = 'red', label = 'Real Itausa Stock Price with LSTM')\n",
    "plt.plot(predicted_stock_price, color = 'blue', label = 'Predicted Itausa Stock Price')\n",
    "plt.title('Itausa Stock Price Prediction')\n",
    "plt.xlabel('Time')\n",
    "plt.ylabel('Itausa Stock Price')\n",
    "plt.legend()\n",
    "plt.show()"
   ]
  },
  {
   "cell_type": "code",
   "execution_count": 62,
   "metadata": {},
   "outputs": [
    {
     "name": "stdout",
     "output_type": "stream",
     "text": [
      "Epoch 1/20\n",
      "440/440 [==============================] - 11s 24ms/step - loss: 0.0388\n",
      "Epoch 2/20\n",
      "440/440 [==============================] - 3s 6ms/step - loss: 0.0157\n",
      "Epoch 3/20\n",
      "440/440 [==============================] - 3s 6ms/step - loss: 0.0160\n",
      "Epoch 4/20\n",
      "440/440 [==============================] - 3s 6ms/step - loss: 0.0125\n",
      "Epoch 5/20\n",
      "440/440 [==============================] - 3s 6ms/step - loss: 0.0124\n",
      "Epoch 6/20\n",
      "440/440 [==============================] - 3s 6ms/step - loss: 0.0154\n",
      "Epoch 7/20\n",
      "440/440 [==============================] - 2s 6ms/step - loss: 0.0106\n",
      "Epoch 8/20\n",
      "440/440 [==============================] - 2s 6ms/step - loss: 0.0093\n",
      "Epoch 9/20\n",
      "440/440 [==============================] - 2s 6ms/step - loss: 0.0084\n",
      "Epoch 10/20\n",
      "440/440 [==============================] - 2s 6ms/step - loss: 0.0084\n",
      "Epoch 11/20\n",
      "440/440 [==============================] - 3s 6ms/step - loss: 0.0074\n",
      "Epoch 12/20\n",
      "440/440 [==============================] - 2s 6ms/step - loss: 0.0090\n",
      "Epoch 13/20\n",
      "440/440 [==============================] - 2s 6ms/step - loss: 0.0072\n",
      "Epoch 14/20\n",
      "440/440 [==============================] - 3s 6ms/step - loss: 0.0077\n",
      "Epoch 15/20\n",
      "440/440 [==============================] - 2s 6ms/step - loss: 0.0067\n",
      "Epoch 16/20\n",
      "440/440 [==============================] - 2s 6ms/step - loss: 0.0061\n",
      "Epoch 17/20\n",
      "440/440 [==============================] - 2s 6ms/step - loss: 0.0062\n",
      "Epoch 18/20\n",
      "440/440 [==============================] - 2s 6ms/step - loss: 0.0066\n",
      "Epoch 19/20\n",
      "440/440 [==============================] - 2s 6ms/step - loss: 0.0066\n",
      "Epoch 20/20\n",
      "440/440 [==============================] - 2s 6ms/step - loss: 0.0054\n"
     ]
    },
    {
     "data": {
      "text/plain": [
       "<keras.callbacks.History at 0x7fa7a2365470>"
      ]
     },
     "execution_count": 62,
     "metadata": {},
     "output_type": "execute_result"
    }
   ],
   "source": [
    "# Part 4 - Building the RNN with GRU\n",
    "\n",
    "# Importing the Keras libraries and packages\n",
    "from keras.layers import GRU\n",
    "\n",
    "# Initialising the RNN\n",
    "regressor = Sequential()\n",
    "\n",
    "# Adding the first GRU layer and some Dropout regularisation\n",
    "regressor.add(GRU(units = 50, return_sequences = True, input_shape = (X_train.shape[1], 1)))\n",
    "regressor.add(Dropout(0.2))\n",
    "\n",
    "# Adding a second GRU layer and some Dropout regularisation\n",
    "regressor.add(GRU(units = 50, return_sequences = True))\n",
    "regressor.add(Dropout(0.2))\n",
    "\n",
    "# Adding a third GRU layer and some Dropout regularisation\n",
    "regressor.add(GRU(units = 50, return_sequences = True))\n",
    "regressor.add(Dropout(0.2))\n",
    "\n",
    "# Adding a fourth GRU layer and some Dropout regularisation\n",
    "regressor.add(GRU(units = 50))\n",
    "regressor.add(Dropout(0.2))\n",
    "\n",
    "# Adding the output layer\n",
    "regressor.add(Dense(units = 1))\n",
    "\n",
    "# Compiling the RNN\n",
    "regressor.compile(optimizer = 'adam', loss = 'mean_squared_error')\n",
    "\n",
    "# Fitting the RNN to the Training set\n",
    "regressor.fit(X_train, y_train, epochs = 20, batch_size = 10)"
   ]
  },
  {
   "cell_type": "code",
   "execution_count": 63,
   "metadata": {},
   "outputs": [
    {
     "data": {
      "image/png": "[encoded data removed]",
      "text/plain": [
       "<Figure size 432x288 with 1 Axes>"
      ]
     },
     "metadata": {
      "needs_background": "light"
     },
     "output_type": "display_data"
    }
   ],
   "source": [
    "# Part 5 - Making the predictions and visualising the results\n",
    "\n",
    "# Getting the real stock price of 2017\n",
    "dataset_test = pd.read_csv('ITSA4.SA_Test.csv')\n",
    "real_stock_price = dataset_test.iloc[:, 1:2].values\n",
    "\n",
    "# Getting the predicted stock price of 2017\n",
    "dataset_total = pd.concat((dataset_train['Open'], dataset_test['Open']), axis = 0)\n",
    "inputs = dataset_total[len(dataset_total) - len(dataset_test) - 60:].values\n",
    "inputs = inputs.reshape(-1,1)\n",
    "inputs = sc.transform(inputs)\n",
    "X_test = []\n",
    "for i in range(60, 180):\n",
    "    X_test.append(inputs[i-60:i, 0])\n",
    "X_test = np.array(X_test)\n",
    "X_test = np.reshape(X_test, (X_test.shape[0], X_test.shape[1], 1))\n",
    "predicted_stock_price = regressor.predict(X_test)\n",
    "predicted_stock_price = sc.inverse_transform(predicted_stock_price)\n",
    "\n",
    "# Visualising the results\n",
    "plt.plot(real_stock_price, color = 'red', label = 'Real Itausa Stock Price with GRU')\n",
    "plt.plot(predicted_stock_price, color = 'blue', label = 'Predicted Itausa Stock Price')\n",
    "plt.title('Itausa Stock Price Prediction')\n",
    "plt.xlabel('Time')\n",
    "plt.ylabel('Itausa Stock Price')\n",
    "plt.legend()\n",
    "plt.show()"
   ]
  },
  {
   "cell_type": "code",
   "execution_count": null,
   "metadata": {},
   "outputs": [],
   "source": []
  }
 ],
 "metadata": {
  "kernelspec": {
   "display_name": "Python 3",
   "language": "python",
   "name": "python3"
  },
  "language_info": {
   "codemirror_mode": {
    "name": "ipython",
    "version": 3
   },
   "file_extension": ".py",
   "mimetype": "text/x-python",
   "name": "python",
   "nbconvert_exporter": "python",
   "pygments_lexer": "ipython3",
   "version": "3.7.3"
  }
 },
 "nbformat": 4,
 "nbformat_minor": 2
}
